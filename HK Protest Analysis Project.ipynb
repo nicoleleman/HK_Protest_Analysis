{
 "cells": [
  {
   "cell_type": "markdown",
   "metadata": {},
   "source": [
    "# Index\n",
    "\n",
    "## 1. Introduction\n",
    "\n",
    "\n",
    "\n",
    "## 2. Methodology\n",
    "\n",
    "\n",
    "## 3. Web Scraping\n",
    "\n",
    "### 3.1 Scraping an article\n",
    "\n",
    "\n",
    "### [3.2 Scraping all article links](#3.2.-Scraping-all-article-links)\n",
    "\n",
    "\n",
    "### [3.3 Putting it all together](#3.3.-Putting-it-all-together)\n",
    "\n",
    "\n",
    "## 4. Text Analysis\n",
    "### 4.1 Exploratory Data Analysis\n",
    "### 4.2"
   ]
  },
  {
   "cell_type": "markdown",
   "metadata": {},
   "source": [
    "## 1. Introduction"
   ]
  },
  {
   "cell_type": "markdown",
   "metadata": {},
   "source": [
    "Back in April 2019 an extradition bill that would have allowed for criminal suspects to be extradited to mainland China under certain circumstances was introduced in Hong Kong. \n",
    "Many have said this risked exposing Hong-Kongers to unfair trials and violent treament. They also fear that the bill would give China greater influence over Hong Kong and could pose a threat to their freedom of speech.\n",
    "\n",
    "The first protest took place on the 28th April, with tens of thousands of people marching peacefully against the extradition bill. Throughout May lawmakers attempted to come to an agreement over the bill but failed to do so on several occastions.\n",
    "\n",
    "9th June 2019 - More than one million people took to the street to protest peacefully against the bill, however the protest turned ugly after midnight as violent protesters clash with riot police. This would mark the beginning of one of the most violent 6 months period in Hong Kong's recent history, with radical protesters clashing with police for over 50 consectutive weekends. \n",
    "\n",
    "After having witnessed the events myself and been exposed to several media outlets, I saw that frequently newspaper and online articles were simply not reporting the truth whether it was due to lack of accurate facts or simply being bias to one side. I decided to look into this matter further.\n",
    "\n",
    "The ultimate aim of this project is to analysis the news articles covering the Hong Kong protest and try to determine whether an outlet is pro-democracy, pro-Beijing or neutral. Machine learning will be utilised, more specifically Neural Language Processing.\n"
   ]
  },
  {
   "cell_type": "code",
   "execution_count": null,
   "metadata": {},
   "outputs": [],
   "source": []
  },
  {
   "cell_type": "markdown",
   "metadata": {},
   "source": [
    "## 2. Methodology"
   ]
  },
  {
   "cell_type": "code",
   "execution_count": null,
   "metadata": {},
   "outputs": [],
   "source": []
  },
  {
   "cell_type": "code",
   "execution_count": null,
   "metadata": {},
   "outputs": [],
   "source": []
  },
  {
   "cell_type": "code",
   "execution_count": null,
   "metadata": {},
   "outputs": [],
   "source": []
  },
  {
   "cell_type": "code",
   "execution_count": null,
   "metadata": {},
   "outputs": [],
   "source": []
  },
  {
   "cell_type": "code",
   "execution_count": null,
   "metadata": {},
   "outputs": [],
   "source": []
  },
  {
   "cell_type": "code",
   "execution_count": null,
   "metadata": {},
   "outputs": [],
   "source": []
  },
  {
   "cell_type": "code",
   "execution_count": null,
   "metadata": {},
   "outputs": [],
   "source": []
  },
  {
   "cell_type": "markdown",
   "metadata": {},
   "source": [
    "## 3. Web Scraping"
   ]
  },
  {
   "cell_type": "markdown",
   "metadata": {},
   "source": [
    "### 3.1. Scraping an article\n",
    "\n",
    "Before I even begin to scape anything from the article I need to find the relevant HTML tags and content boxes for the data that I am collecting from that article. This included the article header,  summary,  timestamp,  author and the main body text. As this will be a text based analysis I did not include the article images. First let's begin by installing the modules that I will need to scrape the article."
   ]
  },
  {
   "cell_type": "code",
   "execution_count": 2,
   "metadata": {},
   "outputs": [],
   "source": [
    "from bs4 import BeautifulSoup\n",
    "import pandas as pd\n",
    "import requests\n",
    "import csv"
   ]
  },
  {
   "cell_type": "code",
   "execution_count": 6,
   "metadata": {
    "collapsed": true
   },
   "outputs": [
    {
     "name": "stdout",
     "output_type": "stream",
     "text": [
      "Title: ‘Nearly 2 million’ people take to streets, forcing public apology from Hong Kong leader Carrie Lam as suspension of controversial extradition bill fails to appease protesters\n",
      "Summary >>>> Centre of city brought to a complete standstill as the masses march to chastise Lam for refusing to withdraw bill or apologise when first asked to\n",
      "Summary >>>> Six hours after protesters transform Central, Wan Chai and Admiralty into a sea of black, public apology comes in the form of government statement\n",
      "Date Published >>>>  1:05am, 17 Jun, 2019\n",
      "Main Text Title >>>> Nearly 2 million protesters flooded the streets of Hong Kong on Sunday, organisers claimed, delivering a stunning repudiation of Chief Executive Carrie Lam Cheng Yuet-ngor’s governance and forcing a public apology out of the city’s leader over her campaign to bulldoze a controversial extradition bill through the legislature.\n",
      "Article Text >>>> A day after Lam suspended her push for the bill, expecting it to defuse a crisis that has seen violent clashes between mostly young protesters and police, the centre of Hong Kong was brought to a complete standstill as the masses marched to chastise her for refusing to withdraw the bill or apologise when first asked to, and declaring that nothing short of her resignation would satisfy them now.\n",
      "Article Text >>>> Just the day before, Lam had said she would hit the pause button on the bill but take another shot at it to build a bigger consensus, as there was still a need to allow the transfer of fugitives to mainland China and other jurisdictions with which Hong Kong has no extradition deal.\n",
      "Article Text >>>> A day later, six hours after protesters had transformed Central, Wan Chai and Admiralty into a sea of black, the public apology they were demanding came in the form of a government statement at night.\n",
      "Article Text >>>> “The chief executive admitted that the deficiencies in the government’s work had led to substantial controversies and disputes in society, causing disappointment and grief among the people,” it read.\n",
      "Article Text >>>> “[She] apologised to the people of Hong Kong for this and pledged to adopt a most sincere and humble attitude to accept criticisms and make improvements in serving the public.”\n",
      "Article Text >>>> A government source said the bill would die a “natural death” without a timetable to relaunch it.\n",
      "Article Text >>>> In a city polarised by politics for months over the extradition bill, this was the second Sunday in a row that historic numbers took to the streets to protest, but this time it was bigger and covered wider swathes of the city.\n",
      "Article Text >>>> Braving the sweltering summer heat, wearing black to reflect their mood, Hongkongers of every age, profession and background, from every corner of the city, marched in a massive show of solidarity and defiance. “Don’t shoot our kids!” the crowd chanted. “Students are not rioters!”\n",
      "Article Text >>>> They were out to condemn police for firing tear gas, rubber bullets and beanbag rounds at protesters last Wednesday, and to demand the government retract its categorisation of the violence as a riot.\n",
      "Article Text >>>> Sammi Lee, 35, said she was touched by the commitment of young people on the streets to their cause against the bill.\n",
      "Article Text >>>> “The police should be professional. Why did they treat young people and media workers with such violence and rudeness?” she said. “Young people have already came out on the streets. As an adult, I have no excuse not to join.”\n",
      "Article Text >>>> Christian groups were also out in force. Auxiliary bishop of Hong Kong Joseph Ha Chi-shing called on followers to take to the streets to wake up people in authority and ask police to show restraint.\n",
      "Article Text >>>> “We need to be the light in the world amid the darkness,” he said. “Victory is conscience and peace.”\n",
      "Article Text >>>> Former No 2 official Anson Chan Fang On-sang, now a vocal critic of the government, said it was a clear message to the chief executive to withdraw the bill altogether.\n",
      "Article Text >>>> Chan said she was personally willing to give Lam a second chance if she could restore the credibility of her government.\n",
      "Article Text >>>> Some needed medical attention as they succumbed to the heat and humidity. In one extraordinary scene, the crowds occupying Lung Wo Road parted to let a solitary ambulance through, then swept back in as it went past.\n",
      "Article Text >>>> After last week’s clashes, police mostly stood back and let the crowds take over, even allowing them to swarm over the roads right outside their headquarters.\n",
      "Article Text >>>> A police source said the force had only maintained a minimal presence at the protest to allow some room between those who were marching and frontline officers in the wake of Wednesday’s violence.\n",
      "Article Text >>>> “We want to express our goodwill and give room to both sides. We don’t want to see more conflict,” the source said. But he added the force had the capability to handle any emergency.\n",
      "Article Text >>>> As seemingly endless waves of black moved from Victoria Park in Causeway Bay to government headquarters in Admiralty, train stations were swamped with hundreds of thousands pouring into the protest zone.\n",
      "Article Text >>>> Bus services were in disarray because of road blockades, and those from the Kowloon side trying to join the rally found themselves waiting up to an hour at a time to board cross-harbour ferries from Tsim Sha Tsui.\n",
      "Article Text >>>> At the official start of the march, at around 3pm, the size of the crowd forced police to open all the six lanes of Hennessy Road. The masses then spilled over onto three parallel streets in Wan Chai, major thoroughfares Lockhart Road and Hennessy Road, and Jaffe Road.\n",
      "Article Text >>>> By evening, they had taken over Harcourt Road, the thoroughfare that became the iconic base of the 2014 Occupy movement when they blocked major transport arteries for 79 straight days in the name of fighting for greater democracy.\n",
      "Article Text >>>> They had vowed to be back, and they returned with a vengeance this time.\n",
      "Article Text >>>> The mass rally was peaceful, but there was some anxiety as night fell and protesters started descending on Harcourt Road and outside the government headquarters, seemingly digging in for a longer haul.\n",
      "Article Text >>>> Masked protesters had also started building barricades on Lung Wo Road, this time amid a conspicuously thinner police presence than last week.\n",
      "Article Text >>>> It was 11pm when the Civil Human Rights Front, the organiser, declared an official end to the march.\n",
      "Article Text >>>> The front put the final turnout at close to 2 million. The police estimate was far lower at 338,000, but they were only counting those who marched along the initially agreed route.\n",
      "Article Text >>>> Convenor Jimmy Sham Tsz-kit dismissed Lam’s apology.\n",
      "Article Text >>>> “No one in Hong Kong will accept it because she has only softened the tone in the statement,” he said. “But she didn’t answer to Hongkongers’ demands.”\n",
      "Article Text >>>> Sham called for the bill to be scrapped altogether, saying the front would wait for the government’s response before deciding whether to escalate its action.\n",
      "Article Text >>>> He also urged more people to join in various strikes and boycotts planned for Monday.\n",
      "Article Text >>>> In the early hours of Monday, several thousand, mostly young, protesters were still occupying sections of roads in Admiralty, stretching from outside Pacific Place shopping centre to streets around the government headquarters and Legislative Council Complex. The protesters were bedding in for the night.\n",
      "Article Text >>>> Earlier on Sunday, Financial Secretary Paul Chan Mo-po warned that the ongoing social unrest over the extradition bill was hurting Hong Kong in some aspects of the economy and livelihood, but gave a public assurance that the city’s financial markets were still operating in a “stable and orderly” manner.\n",
      "Article Text >>>> In a closed-door meeting in the morning, Beijing’s liaison office asked more than 200 local delegates to the National People’s Congress and the Chinese People’s Political Consultative Conference to support the Hong Kong government in riding out the storm.\n",
      "Article Text >>>> Separately, the Commissioner of the Foreign Affairs Ministry in Hong Kong also raised a solemn representation to overseas media outlets for reporting that Beijing was dismayed by Lam’s handling of the extradition bill row.\n",
      "Article Text >>>> The commissioner reiterated the central government’s support and respect for Lam’s move to suspend the bill.\n"
     ]
    }
   ],
   "source": [
    "link = 'https://www.scmp.com/print/news/hong-kong/politics/article/3014737/nearly-2-million-people-take-streets-forcing-public-apology'\n",
    "source = requests.get(link).text\n",
    "soup = BeautifulSoup(source, 'html5lib')\n",
    "#print(soup.prettify())\n",
    "\n",
    "for article in soup.find_all('div', class_='article__wrapper wrapper'):\n",
    "    title = article.h1.text\n",
    "    print(f'Title: {title}')\n",
    "\n",
    "    for summaries in article.find_all('li', class_='print-article__summary--li content--li'):\n",
    "        summary = summaries.getText()\n",
    "        print(f'Summary >>>> {summary}')\n",
    "        \n",
    "    date_published = article.find('p', class_='last-update__published published')\n",
    "    date = date_published.time.getText()\n",
    "    print(f'Date Published >>>> {date[10:]}')\n",
    "\n",
    "    for main_text in article.find_all('div', class_='print-article__body article-details-type--p content--p'):\n",
    "        main_text_title = main_text.getText()\n",
    "        print(f'Main Text Title >>>> {main_text_title}')\n",
    "\n",
    "    for main_text2 in article.find_all('p', class_='print-article__body article-details-type--p content--p'):\n",
    "        paragraphs = main_text2.getText()\n",
    "        print(f'Article Text >>>> {paragraphs}')"
   ]
  },
  {
   "cell_type": "markdown",
   "metadata": {},
   "source": [
    "The above code scrapes all the content of the news article that I need, the next step would be to write them into a CSV file. But first I will need to concatanate the summary and article text into one string. This is done by appending them to an empty list, and then using the .join method. "
   ]
  },
  {
   "cell_type": "code",
   "execution_count": null,
   "metadata": {},
   "outputs": [],
   "source": [
    "with open('scmp_article_content_test.csv', 'w', newline='', encoding='utf-8-sig') as f:\n",
    "    fieldnames = ['title', 'summary', 'date', 'main_text_title', 'paragraphs']\n",
    "    writer = csv.DictWriter(f, fieldnames=fieldnames)\n",
    "    writer.writeheader()\n",
    "    article_text_list = []\n",
    "    \n",
    "    .\n",
    "    .\n",
    "    .\n",
    "                for item in article:\n",
    "                try:\n",
    "                # unix timestamp included the millisecond so divide by 1000 is required\n",
    "                    writer.writerow({'title': title, 'summary': summary,'date': date, \\\n",
    "                                 'main_text_title': main_text_title, 'paragraphs': article_text_conc})\n",
    "                except Exception as e:\n",
    "                    writer.writerow({'title': '', 'summary': '', 'date': '', 'main_text_title': '', 'paragraphs': ''})"
   ]
  },
  {
   "cell_type": "markdown",
   "metadata": {},
   "source": [
    "I added the above code to the beginning and end of the article scraping codes. A couple of things to note:\n",
    "    - In the `with open` statement I set the `encoding='utf-8-sig'` because the webpage was encoded with byte order mark (BOM).\n",
    "    - I created the `.Dictwriter` object to map dictionaries onto output rows.\n",
    "    - Added the try-except loop to handle errors, nothing will be written to the CSV file if there is no content for that tag."
   ]
  },
  {
   "cell_type": "markdown",
   "metadata": {},
   "source": [
    "### 3.2. Scraping all article links\n",
    "\n",
    "I have decided to start with scraping all the article linkes from South China Morning Post as I found them to be fairly netural and tend to cover most of the facts when available. The link I am using is https://www.scmp.com/topics/hong-kong-protests"
   ]
  },
  {
   "cell_type": "code",
   "execution_count": null,
   "metadata": {},
   "outputs": [],
   "source": []
  },
  {
   "cell_type": "markdown",
   "metadata": {},
   "source": [
    "### 3.3. Putting it all together\n",
    "\n",
    "I now need to use the function written in 3.1 to read the CSV containing all the URLs and scrape all the information from each individual article.\n",
    "The CSV file contains rows where there is an apostrophe, which is causing an issue when reading. To resolve this the delimiter \"'\" will need to be doubled for the CSV to read correctly."
   ]
  },
  {
   "cell_type": "markdown",
   "metadata": {},
   "source": [
    "20 minutes to scrape the content, around 940 rows."
   ]
  },
  {
   "cell_type": "code",
   "execution_count": null,
   "metadata": {},
   "outputs": [],
   "source": []
  },
  {
   "cell_type": "markdown",
   "metadata": {},
   "source": [
    "## 4. Text Analysis"
   ]
  },
  {
   "cell_type": "code",
   "execution_count": null,
   "metadata": {},
   "outputs": [],
   "source": []
  },
  {
   "cell_type": "code",
   "execution_count": null,
   "metadata": {},
   "outputs": [],
   "source": []
  },
  {
   "cell_type": "code",
   "execution_count": null,
   "metadata": {},
   "outputs": [],
   "source": []
  },
  {
   "cell_type": "code",
   "execution_count": null,
   "metadata": {},
   "outputs": [],
   "source": []
  }
 ],
 "metadata": {
  "kernelspec": {
   "display_name": "Python 3",
   "language": "python",
   "name": "python3"
  },
  "language_info": {
   "codemirror_mode": {
    "name": "ipython",
    "version": 3
   },
   "file_extension": ".py",
   "mimetype": "text/x-python",
   "name": "python",
   "nbconvert_exporter": "python",
   "pygments_lexer": "ipython3",
   "version": "3.7.3"
  }
 },
 "nbformat": 4,
 "nbformat_minor": 2
}
