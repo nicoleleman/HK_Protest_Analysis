{
 "cells": [
  {
   "cell_type": "markdown",
   "metadata": {},
   "source": [
    "# Index\n",
    "\n",
    "## 1. Introduction\n",
    "\n",
    "\n",
    "\n",
    "## 2. Methodology\n",
    "\n",
    "\n",
    "## 3. Web Scraping\n",
    "\n",
    "### [3.1. Scraping an article](###3.1.-Scraping-an-article)\n",
    "\n",
    "\n",
    "### [3.2. Scraping all article links](#3.2.-Scraping-all-article-links)\n",
    "\n",
    "\n",
    "### [3.3. Putting it all together](#3.3.-Putting-it-all-together)\n",
    "\n",
    "\n",
    "## 4. Text Analysis\n",
    "### 4.1. Exploratory Data Analysis\n",
    "### 4.2. Text mining of the article text"
   ]
  },
  {
   "cell_type": "markdown",
   "metadata": {},
   "source": [
    "## 1. Introduction"
   ]
  },
  {
   "cell_type": "markdown",
   "metadata": {},
   "source": [
    "Back in April 2019 an extradition bill that would have allowed for criminal suspects to be extradited to mainland China under certain circumstances was introduced in Hong Kong. \n",
    "Many have said this risked exposing Hong-Kongers to unfair trials and violent treament. They also fear that the bill would give China greater influence over Hong Kong and could pose a threat to their freedom of speech.\n",
    "\n",
    "The first protest took place on the 28th April, with tens of thousands of people marching peacefully against the extradition bill. Throughout May lawmakers attempted to come to an agreement over the bill but failed to do so on several occastions.\n",
    "\n",
    "9th June 2019 - More than one million people took to the street to protest peacefully against the bill, however the protest turned ugly after midnight as violent protesters clash with riot police. This would mark the beginning of one of the most violent 6 months period in Hong Kong's recent history, with radical protesters clashing with police for over 50 consectutive weekends. \n",
    "\n",
    "After having witnessed the events myself and been exposed to several media outlets, I saw that frequently newspaper and online articles were simply not reporting the truth whether it was due to lack of accurate facts or simply being bias to one side. I decided to look into this matter further.\n",
    "\n",
    "The ultimate aim of this project is to analysis the news articles covering the Hong Kong protest and try to determine whether an outlet is pro-democracy, pro-Beijing or neutral. Machine learning will be utilised, more specifically Neural Language Processing.\n",
    "\n",
    "This notebook will also document my process through this project.\n"
   ]
  },
  {
   "cell_type": "markdown",
   "metadata": {},
   "source": [
    "## 2. Methodology"
   ]
  },
  {
   "cell_type": "code",
   "execution_count": null,
   "metadata": {},
   "outputs": [],
   "source": []
  },
  {
   "cell_type": "markdown",
   "metadata": {},
   "source": [
    "## 3. Web Scraping"
   ]
  },
  {
   "cell_type": "markdown",
   "metadata": {},
   "source": [
    "### 3.1. Scraping an article\n",
    "\n",
    "Before I even begin to scape anything from the article I need to find the relevant HTML tags and content boxes for the data that I am collecting from that article. This included the article header,  summary,  timestamp,  author and the main body text. As this will be a text based analysis I did not include the article images. First let's begin by installing the modules that I will need to scrape the article."
   ]
  },
  {
   "cell_type": "code",
   "execution_count": 27,
   "metadata": {},
   "outputs": [],
   "source": [
    "from bs4 import BeautifulSoup\n",
    "from datetime import datetime\n",
    "from collections import Counter\n",
    "import pandas as pd\n",
    "import requests\n",
    "import csv\n",
    "import matplotlib.pyplot as plt\n",
    "import seaborn as sns"
   ]
  },
  {
   "cell_type": "code",
   "execution_count": null,
   "metadata": {},
   "outputs": [],
   "source": [
    "link = 'https://www.scmp.com/print/news/hong-kong/politics/article/3014737/nearly-2-million-people-take-streets-forcing-public-apology\n",
    "source = requests.get(link).text\n",
    "soup = BeautifulSoup(source, 'html5lib')\n",
    "#print(soup.prettify())\n",
    "\n",
    "for article in soup.find_all('div', class_='article__wrapper wrapper'):\n",
    "    title = article.h1.text\n",
    "    print(f'Title: {title}')\n",
    "\n",
    "    for summaries in article.find_all('li', class_='print-article__summary--li content--li'):\n",
    "        summary = summaries.getText()\n",
    "        print(f'Summary >>>> {summary}')\n",
    "        \n",
    "    date_published = article.find('p', class_='last-update__published published')\n",
    "    date = date_published.time.getText()\n",
    "    print(f'Date Published >>>> {date[10:]}')\n",
    "\n",
    "    for main_text in article.find_all('div', class_='print-article__body article-details-type--p content--p'):\n",
    "        main_text_title = main_text.getText()\n",
    "        print(f'Main Text Title >>>> {main_text_title}')\n",
    "\n",
    "    for main_text2 in article.find_all('p', class_='print-article__body article-details-type--p content--p'):\n",
    "        paragraphs = main_text2.getText()\n",
    "        print(f'Article Text >>>> {paragraphs}')`"
   ]
  },
  {
   "cell_type": "markdown",
   "metadata": {},
   "source": [
    "The above code scrapes all the content of the news article that I need, the next step would be to write them into a CSV file. But first I will need to concatanate the summary and article text into one string. This is done by appending them to an empty list, and then using the .join method. "
   ]
  },
  {
   "cell_type": "code",
   "execution_count": null,
   "metadata": {},
   "outputs": [],
   "source": [
    "with open('scmp_article_content_test.csv', 'w', newline='', encoding='utf-8-sig') as f:\n",
    "    fieldnames = ['title', 'summary', 'date', 'main_text_title', 'paragraphs']\n",
    "    writer = csv.DictWriter(f, fieldnames=fieldnames)\n",
    "    writer.writeheader()\n",
    "    article_text_list = []\n",
    "    \n",
    "    .\n",
    "    .\n",
    "    .\n",
    "                for item in article:\n",
    "                try:\n",
    "                # unix timestamp included the millisecond so divide by 1000 is required\n",
    "                    writer.writerow({'title': title, 'summary': summary,'date': date, \\\n",
    "                                 'main_text_title': main_text_title, 'paragraphs': article_text_conc})\n",
    "                except Exception as e:\n",
    "                    writer.writerow({'title': '', 'summary': '', 'date': '', 'main_text_title': '', 'paragraphs': ''})"
   ]
  },
  {
   "cell_type": "markdown",
   "metadata": {},
   "source": [
    "I added the above code to the beginning and end of the article scraping codes. A couple of things to note:\n",
    "    - In the `with open` statement I set the `encoding='utf-8-sig'` because the webpage was encoded with byte order mark (BOM).\n",
    "    - I created the `.Dictwriter` object to map dictionaries onto output rows.\n",
    "    - Added the try-except loop to handle errors, nothing will be written to that row in the CSV file if there is no content for that tag."
   ]
  },
  {
   "cell_type": "markdown",
   "metadata": {},
   "source": [
    "### 3.2. Scraping all article links\n",
    "\n",
    "I have decided to start with scraping all the article linkes from South China Morning Post as I found them to be fairly netural and tend to cover most of the facts when available. The link I am using is https://www.scmp.com/topics/hong-kong-protests. This link contains all articles tagged to the 'Hong Kong Protest' topic.\n",
    "\n",
    "This page uses an 'infinite scroll' feature to load more articles and in most cases an ajax request is sent, where the Request URL for the next page can easily be idenitified and used for scraping. However for this site there is no pagination used in the request URL, e.g. `https://scrapingclub.com/exercise/list_infinite_scroll/?page=2`.\n",
    "\n",
    "In order to overcome this I had to do a little more digging. A request URL is sent when more items are being loaded, "
   ]
  },
  {
   "cell_type": "markdown",
   "metadata": {},
   "source": [
    "<img src=\"requestURL.jpg\">"
   ]
  },
  {
   "cell_type": "code",
   "execution_count": null,
   "metadata": {},
   "outputs": [],
   "source": []
  },
  {
   "cell_type": "markdown",
   "metadata": {},
   "source": [
    "### 3.3. Putting it all together\n",
    "\n",
    "I now need to use the function written in 3.1 to read the CSV containing all the URLs and scrape all the information from each individual article.\n",
    "The CSV file contains rows where there is an apostrophe, which is causing an issue when reading. To resolve this the delimiter \"'\" will need to be doubled for the CSV to read correctly.\n",
    "\n",
    "The article scraping function was set to scrape 1000 articles at a time to prevent any connection errors, the whole process took around 30 minutes and 2215 articles were scraped."
   ]
  },
  {
   "cell_type": "markdown",
   "metadata": {},
   "source": []
  },
  {
   "cell_type": "code",
   "execution_count": null,
   "metadata": {},
   "outputs": [],
   "source": []
  },
  {
   "cell_type": "markdown",
   "metadata": {},
   "source": [
    "## 4. Text Analysis"
   ]
  },
  {
   "cell_type": "markdown",
   "metadata": {},
   "source": [
    "### 4.1. Exploratory Data Analysis\n",
    "Once I have the content scraped it is time to do some basic EDA. For example, the number of articles posted per month and most common words in the articles (excluding stop words). First the CSV file is read into a pandas DataFrame, then the date is converted from str to a datetime type."
   ]
  },
  {
   "cell_type": "code",
   "execution_count": 3,
   "metadata": {},
   "outputs": [],
   "source": [
    "df = pd.read_csv(\"csv_files/scmp_article_content_all.csv\", header=0)"
   ]
  },
  {
   "cell_type": "code",
   "execution_count": 4,
   "metadata": {
    "collapsed": true
   },
   "outputs": [
    {
     "data": {
      "text/html": [
       "<div>\n",
       "<style scoped>\n",
       "    .dataframe tbody tr th:only-of-type {\n",
       "        vertical-align: middle;\n",
       "    }\n",
       "\n",
       "    .dataframe tbody tr th {\n",
       "        vertical-align: top;\n",
       "    }\n",
       "\n",
       "    .dataframe thead th {\n",
       "        text-align: right;\n",
       "    }\n",
       "</style>\n",
       "<table border=\"1\" class=\"dataframe\">\n",
       "  <thead>\n",
       "    <tr style=\"text-align: right;\">\n",
       "      <th></th>\n",
       "      <th>title</th>\n",
       "      <th>summary</th>\n",
       "      <th>date</th>\n",
       "      <th>main_text_title</th>\n",
       "      <th>paragraphs</th>\n",
       "      <th>url</th>\n",
       "      <th>Date</th>\n",
       "    </tr>\n",
       "  </thead>\n",
       "  <tbody>\n",
       "    <tr>\n",
       "      <th>0</th>\n",
       "      <td>Protests over Yuen Long feature beer, champagn...</td>\n",
       "      <td>Largely peaceful demonstrations feature small ...</td>\n",
       "      <td>3:55pm, 21 Feb, 2020</td>\n",
       "      <td>Peaceful lunchtime demonstrations intended to ...</td>\n",
       "      <td>At the atrium of the Landmark shopping centre ...</td>\n",
       "      <td>https://scmp.com/print/news/hong-kong/politics...</td>\n",
       "      <td>2020-02-21 15:55:00</td>\n",
       "    </tr>\n",
       "    <tr>\n",
       "      <th>1</th>\n",
       "      <td>Coronavirus: Beijing’s top official in Hong Ko...</td>\n",
       "      <td>Luo Huining asks city’s members of China’s leg...</td>\n",
       "      <td>11:03pm, 20 Feb, 2020</td>\n",
       "      <td>Beijing’s top envoy in Hong Kong has written t...</td>\n",
       "      <td>Luo Huining, the new director of Beijing’s lia...</td>\n",
       "      <td>https://scmp.com/print/news/china/politics/art...</td>\n",
       "      <td>2020-02-20 23:03:00</td>\n",
       "    </tr>\n",
       "    <tr>\n",
       "      <th>2</th>\n",
       "      <td>Anti-government protesters’ slogan spray-paint...</td>\n",
       "      <td>Popular protest refrain ‘Liberate Hong Kong; R...</td>\n",
       "      <td>10:38pm, 19 Feb, 2020</td>\n",
       "      <td>The eight words in Chinese – “Liberate Hong Ko...</td>\n",
       "      <td>The popular slogan of the months-long anti-gov...</td>\n",
       "      <td>https://scmp.com/print/news/hong-kong/law-and-...</td>\n",
       "      <td>2020-02-19 22:38:00</td>\n",
       "    </tr>\n",
       "    <tr>\n",
       "      <th>3</th>\n",
       "      <td>Hong Kong commerce minister warns RTHK to obse...</td>\n",
       "      <td>Commerce and Economic Development Bureau which...</td>\n",
       "      <td>5:44pm, 18 Feb, 2020</td>\n",
       "      <td>The force earlier denied the allegation, sayin...</td>\n",
       "      <td>Hong Kong’s commerce minister has warned publi...</td>\n",
       "      <td>https://scmp.com/print/news/hong-kong/politics...</td>\n",
       "      <td>2020-02-18 17:44:00</td>\n",
       "    </tr>\n",
       "    <tr>\n",
       "      <th>4</th>\n",
       "      <td>Videos of Hong Kong police officers dining wit...</td>\n",
       "      <td>Banquet was attended by celebrities such as Ch...</td>\n",
       "      <td>12:18am, 18 Feb, 2020</td>\n",
       "      <td>Videos showing Hong Kong police chief Chris Ta...</td>\n",
       "      <td>The banquet on Sunday night was hosted by the ...</td>\n",
       "      <td>https://scmp.com/print/news/hong-kong/society/...</td>\n",
       "      <td>2020-02-18 00:18:00</td>\n",
       "    </tr>\n",
       "    <tr>\n",
       "      <th>...</th>\n",
       "      <td>...</td>\n",
       "      <td>...</td>\n",
       "      <td>...</td>\n",
       "      <td>...</td>\n",
       "      <td>...</td>\n",
       "      <td>...</td>\n",
       "      <td>...</td>\n",
       "    </tr>\n",
       "    <tr>\n",
       "      <th>2210</th>\n",
       "      <td>University of Hong Kong president Zhang Xiang ...</td>\n",
       "      <td>Zhang admits his earlier comments had failed t...</td>\n",
       "      <td>11:08pm, 18 Jul, 2019</td>\n",
       "      <td>Taipo's #lennonwall defaced for the 2nd time b...</td>\n",
       "      <td>The head of Hong Kong’s oldest university has ...</td>\n",
       "      <td>https://scmp.com/print/news/hong-kong/politics...</td>\n",
       "      <td>2019-07-18 23:08:00</td>\n",
       "    </tr>\n",
       "    <tr>\n",
       "      <th>2211</th>\n",
       "      <td>Hong Kong braces for weekend of marches as pro...</td>\n",
       "      <td>‘Safeguard Hong Kong’ rally will call for resi...</td>\n",
       "      <td>9:30pm, 18 Jul, 2019</td>\n",
       "      <td>Organisers of the pro-establishment “Safeguard...</td>\n",
       "      <td>Hong Kong is bracing for another weekend of pr...</td>\n",
       "      <td>https://scmp.com/print/news/hong-kong/politics...</td>\n",
       "      <td>2019-07-18 21:30:00</td>\n",
       "    </tr>\n",
       "    <tr>\n",
       "      <th>2212</th>\n",
       "      <td>Hong Kong police demand march organisers answe...</td>\n",
       "      <td>Police issue questions in two batches to Syner...</td>\n",
       "      <td>7:11pm, 18 Jul, 2019</td>\n",
       "      <td>Organisers of the pro-establishment “Safeguard...</td>\n",
       "      <td>The Hong Kong Police Force has asked a small c...</td>\n",
       "      <td>https://scmp.com/print/news/hong-kong/politics...</td>\n",
       "      <td>2019-07-18 19:11:00</td>\n",
       "    </tr>\n",
       "    <tr>\n",
       "      <th>2213</th>\n",
       "      <td>European Parliament approves motion on Hong Ko...</td>\n",
       "      <td>Do the 85 MEPs who signed the document underst...</td>\n",
       "      <td>6:02pm, 18 Jul, 2019</td>\n",
       "      <td>Organisers of the pro-establishment “Safeguard...</td>\n",
       "      <td>The European Parliament voted on Thursday to a...</td>\n",
       "      <td>https://scmp.com/print/news/china/diplomacy/ar...</td>\n",
       "      <td>2019-07-18 18:02:00</td>\n",
       "    </tr>\n",
       "    <tr>\n",
       "      <th>2214</th>\n",
       "      <td>Opposition lawmaker Fernando Cheung withdraws ...</td>\n",
       "      <td>Cheung apologises for presenting bill at ‘sens...</td>\n",
       "      <td>5:02pm, 18 Jul, 2019</td>\n",
       "      <td>Organisers of the pro-establishment “Safeguard...</td>\n",
       "      <td>An opposition lawmaker in Hong Kong withdrew h...</td>\n",
       "      <td>https://scmp.com/print/news/hong-kong/politics...</td>\n",
       "      <td>2019-07-18 17:02:00</td>\n",
       "    </tr>\n",
       "  </tbody>\n",
       "</table>\n",
       "<p>2215 rows × 7 columns</p>\n",
       "</div>"
      ],
      "text/plain": [
       "                                                  title  \\\n",
       "0     Protests over Yuen Long feature beer, champagn...   \n",
       "1     Coronavirus: Beijing’s top official in Hong Ko...   \n",
       "2     Anti-government protesters’ slogan spray-paint...   \n",
       "3     Hong Kong commerce minister warns RTHK to obse...   \n",
       "4     Videos of Hong Kong police officers dining wit...   \n",
       "...                                                 ...   \n",
       "2210  University of Hong Kong president Zhang Xiang ...   \n",
       "2211  Hong Kong braces for weekend of marches as pro...   \n",
       "2212  Hong Kong police demand march organisers answe...   \n",
       "2213  European Parliament approves motion on Hong Ko...   \n",
       "2214  Opposition lawmaker Fernando Cheung withdraws ...   \n",
       "\n",
       "                                                summary  \\\n",
       "0     Largely peaceful demonstrations feature small ...   \n",
       "1     Luo Huining asks city’s members of China’s leg...   \n",
       "2     Popular protest refrain ‘Liberate Hong Kong; R...   \n",
       "3     Commerce and Economic Development Bureau which...   \n",
       "4     Banquet was attended by celebrities such as Ch...   \n",
       "...                                                 ...   \n",
       "2210  Zhang admits his earlier comments had failed t...   \n",
       "2211  ‘Safeguard Hong Kong’ rally will call for resi...   \n",
       "2212  Police issue questions in two batches to Syner...   \n",
       "2213  Do the 85 MEPs who signed the document underst...   \n",
       "2214  Cheung apologises for presenting bill at ‘sens...   \n",
       "\n",
       "                       date  \\\n",
       "0      3:55pm, 21 Feb, 2020   \n",
       "1     11:03pm, 20 Feb, 2020   \n",
       "2     10:38pm, 19 Feb, 2020   \n",
       "3      5:44pm, 18 Feb, 2020   \n",
       "4     12:18am, 18 Feb, 2020   \n",
       "...                     ...   \n",
       "2210  11:08pm, 18 Jul, 2019   \n",
       "2211   9:30pm, 18 Jul, 2019   \n",
       "2212   7:11pm, 18 Jul, 2019   \n",
       "2213   6:02pm, 18 Jul, 2019   \n",
       "2214   5:02pm, 18 Jul, 2019   \n",
       "\n",
       "                                        main_text_title  \\\n",
       "0     Peaceful lunchtime demonstrations intended to ...   \n",
       "1     Beijing’s top envoy in Hong Kong has written t...   \n",
       "2     The eight words in Chinese – “Liberate Hong Ko...   \n",
       "3     The force earlier denied the allegation, sayin...   \n",
       "4     Videos showing Hong Kong police chief Chris Ta...   \n",
       "...                                                 ...   \n",
       "2210  Taipo's #lennonwall defaced for the 2nd time b...   \n",
       "2211  Organisers of the pro-establishment “Safeguard...   \n",
       "2212  Organisers of the pro-establishment “Safeguard...   \n",
       "2213  Organisers of the pro-establishment “Safeguard...   \n",
       "2214  Organisers of the pro-establishment “Safeguard...   \n",
       "\n",
       "                                             paragraphs  \\\n",
       "0     At the atrium of the Landmark shopping centre ...   \n",
       "1     Luo Huining, the new director of Beijing’s lia...   \n",
       "2     The popular slogan of the months-long anti-gov...   \n",
       "3     Hong Kong’s commerce minister has warned publi...   \n",
       "4     The banquet on Sunday night was hosted by the ...   \n",
       "...                                                 ...   \n",
       "2210  The head of Hong Kong’s oldest university has ...   \n",
       "2211  Hong Kong is bracing for another weekend of pr...   \n",
       "2212  The Hong Kong Police Force has asked a small c...   \n",
       "2213  The European Parliament voted on Thursday to a...   \n",
       "2214  An opposition lawmaker in Hong Kong withdrew h...   \n",
       "\n",
       "                                                    url                Date  \n",
       "0     https://scmp.com/print/news/hong-kong/politics... 2020-02-21 15:55:00  \n",
       "1     https://scmp.com/print/news/china/politics/art... 2020-02-20 23:03:00  \n",
       "2     https://scmp.com/print/news/hong-kong/law-and-... 2020-02-19 22:38:00  \n",
       "3     https://scmp.com/print/news/hong-kong/politics... 2020-02-18 17:44:00  \n",
       "4     https://scmp.com/print/news/hong-kong/society/... 2020-02-18 00:18:00  \n",
       "...                                                 ...                 ...  \n",
       "2210  https://scmp.com/print/news/hong-kong/politics... 2019-07-18 23:08:00  \n",
       "2211  https://scmp.com/print/news/hong-kong/politics... 2019-07-18 21:30:00  \n",
       "2212  https://scmp.com/print/news/hong-kong/politics... 2019-07-18 19:11:00  \n",
       "2213  https://scmp.com/print/news/china/diplomacy/ar... 2019-07-18 18:02:00  \n",
       "2214  https://scmp.com/print/news/hong-kong/politics... 2019-07-18 17:02:00  \n",
       "\n",
       "[2215 rows x 7 columns]"
      ]
     },
     "execution_count": 4,
     "metadata": {},
     "output_type": "execute_result"
    }
   ],
   "source": [
    "df['Date']=df['date'].apply(lambda x: datetime.strptime(x, '%I:%M%p, %d %b, %Y'))\n",
    "df"
   ]
  },
  {
   "cell_type": "markdown",
   "metadata": {},
   "source": [
    "The number of articles in a month is then counted and plotted. This is done by selecting and then grouping the 'Date' column, applying the aggregating function 'count', then finally resettihg the index."
   ]
  },
  {
   "cell_type": "code",
   "execution_count": 6,
   "metadata": {
    "collapsed": true
   },
   "outputs": [
    {
     "data": {
      "text/html": [
       "<div>\n",
       "<style scoped>\n",
       "    .dataframe tbody tr th:only-of-type {\n",
       "        vertical-align: middle;\n",
       "    }\n",
       "\n",
       "    .dataframe tbody tr th {\n",
       "        vertical-align: top;\n",
       "    }\n",
       "\n",
       "    .dataframe thead th {\n",
       "        text-align: right;\n",
       "    }\n",
       "</style>\n",
       "<table border=\"1\" class=\"dataframe\">\n",
       "  <thead>\n",
       "    <tr style=\"text-align: right;\">\n",
       "      <th></th>\n",
       "      <th>Date</th>\n",
       "      <th>Count</th>\n",
       "    </tr>\n",
       "  </thead>\n",
       "  <tbody>\n",
       "    <tr>\n",
       "      <th>0</th>\n",
       "      <td>1</td>\n",
       "      <td>201</td>\n",
       "    </tr>\n",
       "    <tr>\n",
       "      <th>1</th>\n",
       "      <td>2</td>\n",
       "      <td>29</td>\n",
       "    </tr>\n",
       "    <tr>\n",
       "      <th>2</th>\n",
       "      <td>7</td>\n",
       "      <td>113</td>\n",
       "    </tr>\n",
       "    <tr>\n",
       "      <th>3</th>\n",
       "      <td>8</td>\n",
       "      <td>428</td>\n",
       "    </tr>\n",
       "    <tr>\n",
       "      <th>4</th>\n",
       "      <td>9</td>\n",
       "      <td>404</td>\n",
       "    </tr>\n",
       "    <tr>\n",
       "      <th>5</th>\n",
       "      <td>10</td>\n",
       "      <td>399</td>\n",
       "    </tr>\n",
       "    <tr>\n",
       "      <th>6</th>\n",
       "      <td>11</td>\n",
       "      <td>373</td>\n",
       "    </tr>\n",
       "    <tr>\n",
       "      <th>7</th>\n",
       "      <td>12</td>\n",
       "      <td>268</td>\n",
       "    </tr>\n",
       "  </tbody>\n",
       "</table>\n",
       "</div>"
      ],
      "text/plain": [
       "   Date  Count\n",
       "0     1    201\n",
       "1     2     29\n",
       "2     7    113\n",
       "3     8    428\n",
       "4     9    404\n",
       "5    10    399\n",
       "6    11    373\n",
       "7    12    268"
      ]
     },
     "execution_count": 6,
     "metadata": {},
     "output_type": "execute_result"
    }
   ],
   "source": [
    "number_articles_per_month = df['Date'].groupby(df['Date'].dt.month).agg(Count='count').reset_index()\n",
    "number_articles_per_month"
   ]
  },
  {
   "cell_type": "code",
   "execution_count": 48,
   "metadata": {},
   "outputs": [
    {
     "data": {
      "text/plain": [
       "Text(0.5, 1.0, 'Number of articles per month (July 2019 - February 2020)')"
      ]
     },
     "execution_count": 48,
     "metadata": {},
     "output_type": "execute_result"
    },
    {
     "data": {
      "image/png": "[encoded data removed]",
      "text/plain": [
       "<Figure size 1152x432 with 1 Axes>"
      ]
     },
     "metadata": {
      "needs_background": "light"
     },
     "output_type": "display_data"
    }
   ],
   "source": [
    "plt.figure(figsize=(16,6))\n",
    "ax = sns.barplot(x='Date', y='Count' , data=number_articles_per_month, palette='deep')\n",
    "ax.set_ylabel('Number of articles', fontsize=20)\n",
    "ax.set_xlabel('Month', fontsize=20)\n",
    "ax.set_title('Number of articles per month (July 2019 - February 2020)')"
   ]
  },
  {
   "cell_type": "code",
   "execution_count": 11,
   "metadata": {
    "collapsed": true
   },
   "outputs": [
    {
     "ename": "ValueError",
     "evalue": "Could not interpret input 'Count'",
     "output_type": "error",
     "traceback": [
      "\u001b[1;31m---------------------------------------------------------------------------\u001b[0m",
      "\u001b[1;31mValueError\u001b[0m                                Traceback (most recent call last)",
      "\u001b[1;32m<ipython-input-11-2e7f503262ec>\u001b[0m in \u001b[0;36m<module>\u001b[1;34m\u001b[0m\n\u001b[0;32m      3\u001b[0m                          \u001b[0my\u001b[0m\u001b[1;33m=\u001b[0m\u001b[1;34m\"Count\"\u001b[0m\u001b[1;33m,\u001b[0m\u001b[1;33m\u001b[0m\u001b[1;33m\u001b[0m\u001b[0m\n\u001b[0;32m      4\u001b[0m                          \u001b[0mhue\u001b[0m\u001b[1;33m=\u001b[0m\u001b[1;34m'year'\u001b[0m\u001b[1;33m,\u001b[0m\u001b[1;33m\u001b[0m\u001b[1;33m\u001b[0m\u001b[0m\n\u001b[1;32m----> 5\u001b[1;33m                          \u001b[0mdata\u001b[0m\u001b[1;33m=\u001b[0m\u001b[0mdf\u001b[0m\u001b[1;33m\u001b[0m\u001b[1;33m\u001b[0m\u001b[0m\n\u001b[0m\u001b[0;32m      6\u001b[0m                          ).set_title('NYC Weather Over Time')\n",
      "\u001b[1;32mc:\\users\\nicom\\pycharmprojects\\hk_protest_analysis\\venv\\lib\\site-packages\\seaborn\\relational.py\u001b[0m in \u001b[0;36mlineplot\u001b[1;34m(x, y, hue, size, style, data, palette, hue_order, hue_norm, sizes, size_order, size_norm, dashes, markers, style_order, units, estimator, ci, n_boot, seed, sort, err_style, err_kws, legend, ax, **kwargs)\u001b[0m\n\u001b[0;32m   1129\u001b[0m         \u001b[0mdashes\u001b[0m\u001b[1;33m=\u001b[0m\u001b[0mdashes\u001b[0m\u001b[1;33m,\u001b[0m \u001b[0mmarkers\u001b[0m\u001b[1;33m=\u001b[0m\u001b[0mmarkers\u001b[0m\u001b[1;33m,\u001b[0m \u001b[0mstyle_order\u001b[0m\u001b[1;33m=\u001b[0m\u001b[0mstyle_order\u001b[0m\u001b[1;33m,\u001b[0m\u001b[1;33m\u001b[0m\u001b[1;33m\u001b[0m\u001b[0m\n\u001b[0;32m   1130\u001b[0m         \u001b[0munits\u001b[0m\u001b[1;33m=\u001b[0m\u001b[0munits\u001b[0m\u001b[1;33m,\u001b[0m \u001b[0mestimator\u001b[0m\u001b[1;33m=\u001b[0m\u001b[0mestimator\u001b[0m\u001b[1;33m,\u001b[0m \u001b[0mci\u001b[0m\u001b[1;33m=\u001b[0m\u001b[0mci\u001b[0m\u001b[1;33m,\u001b[0m \u001b[0mn_boot\u001b[0m\u001b[1;33m=\u001b[0m\u001b[0mn_boot\u001b[0m\u001b[1;33m,\u001b[0m \u001b[0mseed\u001b[0m\u001b[1;33m=\u001b[0m\u001b[0mseed\u001b[0m\u001b[1;33m,\u001b[0m\u001b[1;33m\u001b[0m\u001b[1;33m\u001b[0m\u001b[0m\n\u001b[1;32m-> 1131\u001b[1;33m         \u001b[0msort\u001b[0m\u001b[1;33m=\u001b[0m\u001b[0msort\u001b[0m\u001b[1;33m,\u001b[0m \u001b[0merr_style\u001b[0m\u001b[1;33m=\u001b[0m\u001b[0merr_style\u001b[0m\u001b[1;33m,\u001b[0m \u001b[0merr_kws\u001b[0m\u001b[1;33m=\u001b[0m\u001b[0merr_kws\u001b[0m\u001b[1;33m,\u001b[0m \u001b[0mlegend\u001b[0m\u001b[1;33m=\u001b[0m\u001b[0mlegend\u001b[0m\u001b[1;33m,\u001b[0m\u001b[1;33m\u001b[0m\u001b[1;33m\u001b[0m\u001b[0m\n\u001b[0m\u001b[0;32m   1132\u001b[0m     )\n\u001b[0;32m   1133\u001b[0m \u001b[1;33m\u001b[0m\u001b[0m\n",
      "\u001b[1;32mc:\\users\\nicom\\pycharmprojects\\hk_protest_analysis\\venv\\lib\\site-packages\\seaborn\\relational.py\u001b[0m in \u001b[0;36m__init__\u001b[1;34m(self, x, y, hue, size, style, data, palette, hue_order, hue_norm, sizes, size_order, size_norm, dashes, markers, style_order, units, estimator, ci, n_boot, seed, sort, err_style, err_kws, legend)\u001b[0m\n\u001b[0;32m    698\u001b[0m \u001b[1;33m\u001b[0m\u001b[0m\n\u001b[0;32m    699\u001b[0m         plot_data = self.establish_variables(\n\u001b[1;32m--> 700\u001b[1;33m             \u001b[0mx\u001b[0m\u001b[1;33m,\u001b[0m \u001b[0my\u001b[0m\u001b[1;33m,\u001b[0m \u001b[0mhue\u001b[0m\u001b[1;33m,\u001b[0m \u001b[0msize\u001b[0m\u001b[1;33m,\u001b[0m \u001b[0mstyle\u001b[0m\u001b[1;33m,\u001b[0m \u001b[0munits\u001b[0m\u001b[1;33m,\u001b[0m \u001b[0mdata\u001b[0m\u001b[1;33m\u001b[0m\u001b[1;33m\u001b[0m\u001b[0m\n\u001b[0m\u001b[0;32m    701\u001b[0m         )\n\u001b[0;32m    702\u001b[0m \u001b[1;33m\u001b[0m\u001b[0m\n",
      "\u001b[1;32mc:\\users\\nicom\\pycharmprojects\\hk_protest_analysis\\venv\\lib\\site-packages\\seaborn\\relational.py\u001b[0m in \u001b[0;36mestablish_variables\u001b[1;34m(self, x, y, hue, size, style, units, data)\u001b[0m\n\u001b[0;32m    140\u001b[0m                 \u001b[1;32mif\u001b[0m \u001b[0misinstance\u001b[0m\u001b[1;33m(\u001b[0m\u001b[0mvar\u001b[0m\u001b[1;33m,\u001b[0m \u001b[0mstr\u001b[0m\u001b[1;33m)\u001b[0m\u001b[1;33m:\u001b[0m\u001b[1;33m\u001b[0m\u001b[1;33m\u001b[0m\u001b[0m\n\u001b[0;32m    141\u001b[0m                     \u001b[0merr\u001b[0m \u001b[1;33m=\u001b[0m \u001b[1;34m\"Could not interpret input '{}'\"\u001b[0m\u001b[1;33m.\u001b[0m\u001b[0mformat\u001b[0m\u001b[1;33m(\u001b[0m\u001b[0mvar\u001b[0m\u001b[1;33m)\u001b[0m\u001b[1;33m\u001b[0m\u001b[1;33m\u001b[0m\u001b[0m\n\u001b[1;32m--> 142\u001b[1;33m                     \u001b[1;32mraise\u001b[0m \u001b[0mValueError\u001b[0m\u001b[1;33m(\u001b[0m\u001b[0merr\u001b[0m\u001b[1;33m)\u001b[0m\u001b[1;33m\u001b[0m\u001b[1;33m\u001b[0m\u001b[0m\n\u001b[0m\u001b[0;32m    143\u001b[0m \u001b[1;33m\u001b[0m\u001b[0m\n\u001b[0;32m    144\u001b[0m             \u001b[1;31m# Extract variable names\u001b[0m\u001b[1;33m\u001b[0m\u001b[1;33m\u001b[0m\u001b[1;33m\u001b[0m\u001b[0m\n",
      "\u001b[1;31mValueError\u001b[0m: Could not interpret input 'Count'"
     ]
    }
   ],
   "source": [
    "#Number of articles over the observed period.\n",
    "hk_chart = sns.lineplot(x=\"Date\",\n",
    "                         y=\"Count\",\n",
    "                         hue='year',\n",
    "                         data=df\n",
    "                         ).set_title('NYC Weather Over Time')"
   ]
  },
  {
   "cell_type": "markdown",
   "metadata": {},
   "source": [
    "### 4.2. Text mining of the article text\n",
    "I start by counting the top 10 most frequent words in the scraped data. This involves a few steps: \n",
    "\n",
    "1. Reading in the 'paragraph' column\n",
    "2. Splitting the string into a list where each word is a list item by using .str.split()\n",
    "3. Applying the Counter container to convert the list of lists using a *list comprehension.\n",
    "4. Applying the .most_common(10) method to get the top 10 most frequent word.\n",
    "\n",
    "\n",
    "*Without using list comprehension:\n",
    "\n",
    "    c = Counter()\n",
    "    for xs in seq:\n",
    "        for x in set(xs):\n",
    "            c[x] += 1\n",
    "    \n",
    "Output: {'a': 2, 'c': 2, 'b': 2, 'd': 1}\n"
   ]
  },
  {
   "cell_type": "code",
   "execution_count": 28,
   "metadata": {},
   "outputs": [
    {
     "name": "stdout",
     "output_type": "stream",
     "text": [
      "[('the', 87169), ('to', 43965), ('of', 36996), ('and', 35675), ('a', 28545), ('in', 27707), ('on', 17046), ('for', 13176), ('Hong', 12933), ('was', 12003)]\n"
     ]
    }
   ],
   "source": [
    "df = pd.read_csv('csv_files/scmp_article_content_all.csv')\n",
    "text_dataset = df['paragraphs']\n",
    "split_it = text_dataset.str.split()\n",
    "\n",
    "Counter = Counter(x for xs in split_it for x in xs)\n",
    "most_occur = Counter.most_common(10)\n",
    "print(most_occur)"
   ]
  },
  {
   "cell_type": "markdown",
   "metadata": {},
   "source": [
    "As expected the most frequent words are stop words, these are no good to us and will need to be removed. The word 'Hong' also appears in this top 10 list, and it will need to be cleaned up so that we count the word 'Hong Kong' instead of only 'Hong'. \n",
    "\n",
    "Stemming and Lemmatization will need to be carried out, this is done using the Natural Language Tool Kit library (NLTK)."
   ]
  },
  {
   "cell_type": "code",
   "execution_count": 51,
   "metadata": {},
   "outputs": [
    {
     "data": {
      "text/plain": [
       "Text(0.5, 1.0, 'Top 10 most common words')"
      ]
     },
     "execution_count": 51,
     "metadata": {},
     "output_type": "execute_result"
    },
    {
     "data": {
      "image/png": "[encoded data removed]",
      "text/plain": [
       "<Figure size 1152x432 with 1 Axes>"
      ]
     },
     "metadata": {
      "needs_background": "light"
     },
     "output_type": "display_data"
    }
   ],
   "source": [
    "plt.figure(figsize=(16,6))\n",
    "pd_most_occur = pd.DataFrame(most_occur, columns = ['Words' , 'Count'])\n",
    "ax = sns.barplot(x='Count', y='Words' , data=pd_most_occur, palette='rocket')\n",
    "ax.set_ylabel('Count', fontsize=15)\n",
    "ax.set_xlabel('Words', fontsize=15)\n",
    "ax.set_title('Top 10 most common words', fontsize=20)"
   ]
  }
 ],
 "metadata": {
  "kernelspec": {
   "display_name": "Python 3",
   "language": "python",
   "name": "python3"
  },
  "language_info": {
   "codemirror_mode": {
    "name": "ipython",
    "version": 3
   },
   "file_extension": ".py",
   "mimetype": "text/x-python",
   "name": "python",
   "nbconvert_exporter": "python",
   "pygments_lexer": "ipython3",
   "version": "3.7.3"
  }
 },
 "nbformat": 4,
 "nbformat_minor": 2
}
